{
 "cells": [
  {
   "cell_type": "markdown",
   "metadata": {},
   "source": [
    "# Movies Tonight Part 3: SQL DML"
   ]
  },
  {
   "cell_type": "code",
   "execution_count": 93,
   "metadata": {},
   "outputs": [
    {
     "name": "stdout",
     "output_type": "stream",
     "text": [
      "The sql extension is already loaded. To reload it, use:\n",
      "  %reload_ext sql\n"
     ]
    },
    {
     "data": {
      "text/plain": [
       "'Connected: @Movies.db'"
      ]
     },
     "execution_count": 93,
     "metadata": {},
     "output_type": "execute_result"
    }
   ],
   "source": [
    "%load_ext sql\n",
    "%sql sqlite:///Movies.db"
   ]
  },
  {
   "cell_type": "markdown",
   "metadata": {},
   "source": [
    "1. **Load the `DATASET.csv` file into the `Movies.db` database.**  \n",
    "    - Import the CSV file to create a new table called `DATASET`. Follow the example [here](http://www.sqlitetutorial.net/sqlite-import-csv/).\n",
    "    - Use a [`PRAGMA table-info` pseudo-query](https://www.sqlite.org/pragma.html#pragma_table_info) to inspect the design of the new table. [How are we going to handle dates](https://www.sqlite.org/datatype3.html)?"
   ]
  },
  {
   "cell_type": "code",
   "execution_count": 94,
   "metadata": {},
   "outputs": [
    {
     "name": "stdout",
     "output_type": "stream",
     "text": [
      " * sqlite:///Movies.db\n",
      "Done.\n"
     ]
    },
    {
     "data": {
      "text/html": [
       "<table>\n",
       "    <tr>\n",
       "        <th>cid</th>\n",
       "        <th>name</th>\n",
       "        <th>type</th>\n",
       "        <th>notnull</th>\n",
       "        <th>dflt_value</th>\n",
       "        <th>pk</th>\n",
       "    </tr>\n",
       "    <tr>\n",
       "        <td>0</td>\n",
       "        <td>TName</td>\n",
       "        <td>TEXT</td>\n",
       "        <td>0</td>\n",
       "        <td>None</td>\n",
       "        <td>0</td>\n",
       "    </tr>\n",
       "    <tr>\n",
       "        <td>1</td>\n",
       "        <td>Location</td>\n",
       "        <td>TEXT</td>\n",
       "        <td>0</td>\n",
       "        <td>None</td>\n",
       "        <td>0</td>\n",
       "    </tr>\n",
       "    <tr>\n",
       "        <td>2</td>\n",
       "        <td>Phone</td>\n",
       "        <td>TEXT</td>\n",
       "        <td>0</td>\n",
       "        <td>None</td>\n",
       "        <td>0</td>\n",
       "    </tr>\n",
       "    <tr>\n",
       "        <td>3</td>\n",
       "        <td>MTitle</td>\n",
       "        <td>TEXT</td>\n",
       "        <td>0</td>\n",
       "        <td>None</td>\n",
       "        <td>0</td>\n",
       "    </tr>\n",
       "    <tr>\n",
       "        <td>4</td>\n",
       "        <td>ShowTime</td>\n",
       "        <td>TEXT</td>\n",
       "        <td>0</td>\n",
       "        <td>None</td>\n",
       "        <td>0</td>\n",
       "    </tr>\n",
       "    <tr>\n",
       "        <td>5</td>\n",
       "        <td>Rating</td>\n",
       "        <td>TEXT</td>\n",
       "        <td>0</td>\n",
       "        <td>None</td>\n",
       "        <td>0</td>\n",
       "    </tr>\n",
       "    <tr>\n",
       "        <td>6</td>\n",
       "        <td>CCode</td>\n",
       "        <td>TEXT</td>\n",
       "        <td>0</td>\n",
       "        <td>None</td>\n",
       "        <td>0</td>\n",
       "    </tr>\n",
       "    <tr>\n",
       "        <td>7</td>\n",
       "        <td>CName</td>\n",
       "        <td>TEXT</td>\n",
       "        <td>0</td>\n",
       "        <td>None</td>\n",
       "        <td>0</td>\n",
       "    </tr>\n",
       "</table>"
      ],
      "text/plain": [
       "[(0, 'TName', 'TEXT', 0, None, 0),\n",
       " (1, 'Location', 'TEXT', 0, None, 0),\n",
       " (2, 'Phone', 'TEXT', 0, None, 0),\n",
       " (3, 'MTitle', 'TEXT', 0, None, 0),\n",
       " (4, 'ShowTime', 'TEXT', 0, None, 0),\n",
       " (5, 'Rating', 'TEXT', 0, None, 0),\n",
       " (6, 'CCode', 'TEXT', 0, None, 0),\n",
       " (7, 'CName', 'TEXT', 0, None, 0)]"
      ]
     },
     "execution_count": 94,
     "metadata": {},
     "output_type": "execute_result"
    }
   ],
   "source": [
    "%%sql\n",
    "\n",
    "PRAGMA table_info(DATASET);"
   ]
  },
  {
   "cell_type": "markdown",
   "metadata": {},
   "source": [
    "2. **Populate the tables with data.**  \n",
    "\n",
    "    - Use `INSERT ... SELECT ...` queries to extract data from `DATASET` for each table of your other tables. \n",
    "    - Start with the strong entities before moving on to the weak ones. Be sure to always select distinct     values. \n",
    "    - Foreign Keys get special treatment. You will have to use JOINs to pick up the PKs from the other side of the relationships. (As in Part 1, use the fact that movie names, theater names, and people names are always unique in our source data. That way you can use then for the JOIN columns. \n",
    "    - If you have to start over, then rerun your DDL queries from Part 2. "
   ]
  },
  {
   "cell_type": "code",
   "execution_count": 95,
   "metadata": {},
   "outputs": [
    {
     "name": "stdout",
     "output_type": "stream",
     "text": [
      " * sqlite:///Movies.db\n",
      "23 rows affected.\n"
     ]
    },
    {
     "data": {
      "text/plain": [
       "[]"
      ]
     },
     "execution_count": 95,
     "metadata": {},
     "output_type": "execute_result"
    }
   ],
   "source": [
    "%%sql\n",
    "\n",
    "INSERT INTO MOVIE (MTitle,Rating)\n",
    "    SELECT DISTINCT MTitle, Rating\n",
    "        FROM DATASET;"
   ]
  },
  {
   "cell_type": "code",
   "execution_count": 96,
   "metadata": {},
   "outputs": [
    {
     "name": "stdout",
     "output_type": "stream",
     "text": [
      " * sqlite:///Movies.db\n",
      "9 rows affected.\n"
     ]
    },
    {
     "data": {
      "text/plain": [
       "[]"
      ]
     },
     "execution_count": 96,
     "metadata": {},
     "output_type": "execute_result"
    }
   ],
   "source": [
    "%%sql\n",
    "\n",
    "INSERT INTO THEATER (TName,Phone,Location)\n",
    "    SELECT DISTINCT TName, Phone, Location\n",
    "        FROM DATASET;"
   ]
  },
  {
   "cell_type": "code",
   "execution_count": 97,
   "metadata": {},
   "outputs": [
    {
     "name": "stdout",
     "output_type": "stream",
     "text": [
      " * sqlite:///Movies.db\n",
      "153 rows affected.\n"
     ]
    },
    {
     "data": {
      "text/plain": [
       "[]"
      ]
     },
     "execution_count": 97,
     "metadata": {},
     "output_type": "execute_result"
    }
   ],
   "source": [
    "%%sql\n",
    "\n",
    "INSERT INTO ARTISTS (Name)\n",
    "    SELECT DISTINCT CName\n",
    "        FROM DATASET;"
   ]
  },
  {
   "cell_type": "code",
   "execution_count": 99,
   "metadata": {},
   "outputs": [
    {
     "name": "stdout",
     "output_type": "stream",
     "text": [
      " * sqlite:///Movies.db\n",
      "162 rows affected.\n"
     ]
    },
    {
     "data": {
      "text/plain": [
       "[]"
      ]
     },
     "execution_count": 99,
     "metadata": {},
     "output_type": "execute_result"
    }
   ],
   "source": [
    "%%sql\n",
    "\n",
    "INSERT INTO CREDIT (MID,AID,CCode)\n",
    "SELECT DISTINCT MID, AID, CCode\n",
    "FROM MOVIE \n",
    "JOIN DATASET USING (MTitle)\n",
    "JOIN ARTISTS ON (DATASET.CName = ARTISTS.Name);"
   ]
  },
  {
   "cell_type": "code",
   "execution_count": 105,
   "metadata": {},
   "outputs": [
    {
     "name": "stdout",
     "output_type": "stream",
     "text": [
      " * sqlite:///Movies.db\n",
      "131 rows affected.\n"
     ]
    },
    {
     "data": {
      "text/plain": [
       "[]"
      ]
     },
     "execution_count": 105,
     "metadata": {},
     "output_type": "execute_result"
    }
   ],
   "source": [
    "%%sql\n",
    "\n",
    "INSERT INTO SHOW (MID,TID,Show_Time)\n",
    "SELECT DISTINCT MID, TID, ShowTime\n",
    "FROM MOVIE\n",
    "JOIN DATASET USING (MTitle)\n",
    "JOIN THEATER ON (DATASET.Location=THEATER.Location);"
   ]
  },
  {
   "cell_type": "markdown",
   "metadata": {},
   "source": [
    "3. **Check your work.**  \n",
    "There are 9 theaters, 23 movies, 152 artists, 131 shows, and 161 credits."
   ]
  },
  {
   "cell_type": "markdown",
   "metadata": {},
   "source": [
    "4. **Now check the source data.**  \n",
    "There are actually 13 duplicate rows in the original source data! Can you spot them? Write a SQL query that counts how many times each (MTitle, TName, Showtime, CCode, and CName) appears. Which ones appear more than once?"
   ]
  },
  {
   "cell_type": "code",
   "execution_count": 106,
   "metadata": {},
   "outputs": [
    {
     "name": "stdout",
     "output_type": "stream",
     "text": [
      " * sqlite:///Movies.db\n",
      "Done.\n"
     ]
    },
    {
     "data": {
      "text/html": [
       "<table>\n",
       "    <tr>\n",
       "        <th>MTitle</th>\n",
       "        <th>TName</th>\n",
       "        <th>ShowTime</th>\n",
       "        <th>CCode</th>\n",
       "        <th>CName</th>\n",
       "    </tr>\n",
       "    <tr>\n",
       "        <td>Dear God</td>\n",
       "        <td>SOCAL Canyon Springs Cinema</td>\n",
       "        <td>9:00 PM</td>\n",
       "        <td>A</td>\n",
       "        <td>Greg Kinnear</td>\n",
       "    </tr>\n",
       "    <tr>\n",
       "        <td>Dear God</td>\n",
       "        <td>SOCAL Canyon Springs Cinema</td>\n",
       "        <td>9:00 PM</td>\n",
       "        <td>A</td>\n",
       "        <td>Hector Elizondo</td>\n",
       "    </tr>\n",
       "    <tr>\n",
       "        <td>Dear God</td>\n",
       "        <td>SOCAL Canyon Springs Cinema</td>\n",
       "        <td>9:00 PM</td>\n",
       "        <td>A</td>\n",
       "        <td>Jon Seda</td>\n",
       "    </tr>\n",
       "    <tr>\n",
       "        <td>Dear God</td>\n",
       "        <td>SOCAL Canyon Springs Cinema</td>\n",
       "        <td>9:00 PM</td>\n",
       "        <td>A</td>\n",
       "        <td>Laurie Metcalf</td>\n",
       "    </tr>\n",
       "    <tr>\n",
       "        <td>Dear God</td>\n",
       "        <td>SOCAL Canyon Springs Cinema</td>\n",
       "        <td>9:00 PM</td>\n",
       "        <td>A</td>\n",
       "        <td>Maria Pitillo</td>\n",
       "    </tr>\n",
       "    <tr>\n",
       "        <td>Dear God</td>\n",
       "        <td>SOCAL Canyon Springs Cinema</td>\n",
       "        <td>9:00 PM</td>\n",
       "        <td>A</td>\n",
       "        <td>Roscoe Lee Browne</td>\n",
       "    </tr>\n",
       "    <tr>\n",
       "        <td>Dear God</td>\n",
       "        <td>SOCAL Canyon Springs Cinema</td>\n",
       "        <td>9:00 PM</td>\n",
       "        <td>A</td>\n",
       "        <td>Tim Conway</td>\n",
       "    </tr>\n",
       "    <tr>\n",
       "        <td>Dear God</td>\n",
       "        <td>SOCAL Canyon Springs Cinema</td>\n",
       "        <td>9:00 PM</td>\n",
       "        <td>D</td>\n",
       "        <td>Garry Marshall</td>\n",
       "    </tr>\n",
       "    <tr>\n",
       "        <td>High School High</td>\n",
       "        <td>United Artists Riverside (Galleria) Tyler Mall</td>\n",
       "        <td>9:00 PM</td>\n",
       "        <td>A</td>\n",
       "        <td>Jon Lovitz</td>\n",
       "    </tr>\n",
       "    <tr>\n",
       "        <td>High School High</td>\n",
       "        <td>United Artists Riverside (Galleria) Tyler Mall</td>\n",
       "        <td>9:00 PM</td>\n",
       "        <td>A</td>\n",
       "        <td>Mekhi Phifer</td>\n",
       "    </tr>\n",
       "    <tr>\n",
       "        <td>High School High</td>\n",
       "        <td>United Artists Riverside (Galleria) Tyler Mall</td>\n",
       "        <td>9:00 PM</td>\n",
       "        <td>A</td>\n",
       "        <td>Tia Carrera</td>\n",
       "    </tr>\n",
       "    <tr>\n",
       "        <td>High School High</td>\n",
       "        <td>United Artists Riverside (Galleria) Tyler Mall</td>\n",
       "        <td>9:00 PM</td>\n",
       "        <td>A</td>\n",
       "        <td>and Louise Fletcher</td>\n",
       "    </tr>\n",
       "    <tr>\n",
       "        <td>High School High</td>\n",
       "        <td>United Artists Riverside (Galleria) Tyler Mall</td>\n",
       "        <td>9:00 PM</td>\n",
       "        <td>D</td>\n",
       "        <td>Hart Bochner</td>\n",
       "    </tr>\n",
       "</table>"
      ],
      "text/plain": [
       "[('Dear God', 'SOCAL Canyon Springs Cinema', '9:00 PM', 'A', 'Greg Kinnear'),\n",
       " ('Dear God', 'SOCAL Canyon Springs Cinema', '9:00 PM', 'A', 'Hector Elizondo'),\n",
       " ('Dear God', 'SOCAL Canyon Springs Cinema', '9:00 PM', 'A', 'Jon Seda'),\n",
       " ('Dear God', 'SOCAL Canyon Springs Cinema', '9:00 PM', 'A', 'Laurie Metcalf'),\n",
       " ('Dear God', 'SOCAL Canyon Springs Cinema', '9:00 PM', 'A', 'Maria Pitillo'),\n",
       " ('Dear God', 'SOCAL Canyon Springs Cinema', '9:00 PM', 'A', 'Roscoe Lee Browne'),\n",
       " ('Dear God', 'SOCAL Canyon Springs Cinema', '9:00 PM', 'A', 'Tim Conway'),\n",
       " ('Dear God', 'SOCAL Canyon Springs Cinema', '9:00 PM', 'D', 'Garry Marshall'),\n",
       " ('High School High', 'United Artists Riverside (Galleria) Tyler Mall', '9:00 PM', 'A', 'Jon Lovitz'),\n",
       " ('High School High', 'United Artists Riverside (Galleria) Tyler Mall', '9:00 PM', 'A', 'Mekhi Phifer'),\n",
       " ('High School High', 'United Artists Riverside (Galleria) Tyler Mall', '9:00 PM', 'A', 'Tia Carrera'),\n",
       " ('High School High', 'United Artists Riverside (Galleria) Tyler Mall', '9:00 PM', 'A', 'and Louise Fletcher'),\n",
       " ('High School High', 'United Artists Riverside (Galleria) Tyler Mall', '9:00 PM', 'D', 'Hart Bochner')]"
      ]
     },
     "execution_count": 106,
     "metadata": {},
     "output_type": "execute_result"
    }
   ],
   "source": [
    "%%sql\n",
    "\n",
    "SELECT MTitle, TName, ShowTime, CCode, CName\n",
    "FROM DATASET\n",
    "GROUP BY MTitle, TName, ShowTime, CCode, CName\n",
    "HAVING COUNT(*) > 1;"
   ]
  },
  {
   "cell_type": "markdown",
   "metadata": {},
   "source": [
    "5. **Drop the `DATASET` table.**  \n",
    "We don't need it anymore. "
   ]
  },
  {
   "cell_type": "code",
   "execution_count": 107,
   "metadata": {},
   "outputs": [
    {
     "name": "stdout",
     "output_type": "stream",
     "text": [
      " * sqlite:///Movies.db\n",
      "Done.\n"
     ]
    },
    {
     "data": {
      "text/plain": [
       "[]"
      ]
     },
     "execution_count": 107,
     "metadata": {},
     "output_type": "execute_result"
    }
   ],
   "source": [
    "%%sql\n",
    "\n",
    "DROP TABLE DATASET;"
   ]
  },
  {
   "cell_type": "markdown",
   "metadata": {},
   "source": [
    "6. **Save, commit, and push your work to GitHub.**  \n",
    "Use the commit summary comment \"Completed Part 3\"."
   ]
  }
 ],
 "metadata": {
  "kernelspec": {
   "display_name": "Python 3",
   "language": "python",
   "name": "python3"
  },
  "language_info": {
   "codemirror_mode": {
    "name": "ipython",
    "version": 3
   },
   "file_extension": ".py",
   "mimetype": "text/x-python",
   "name": "python",
   "nbconvert_exporter": "python",
   "pygments_lexer": "ipython3",
   "version": "3.6.5"
  }
 },
 "nbformat": 4,
 "nbformat_minor": 2
}
