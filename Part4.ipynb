{
 "cells": [
  {
   "cell_type": "markdown",
   "metadata": {},
   "source": [
    "# Movies Tonight Part 4: A few SELECT queries \n",
    "__Use `%%sql` magic to write the queries listed below.__"
   ]
  },
  {
   "cell_type": "code",
   "execution_count": 1,
   "metadata": {
    "collapsed": true
   },
   "outputs": [
    {
     "data": {
      "text/plain": [
       "'Connected: @Movies.db'"
      ]
     },
     "execution_count": 1,
     "metadata": {},
     "output_type": "execute_result"
    }
   ],
   "source": [
    "# load %sql magic extension\n",
    "%load_ext sql\n",
    "\n",
    "# initialize a database connection; may have to adjust username and password \n",
    "%sql sqlite:///Movies.db"
   ]
  },
  {
   "cell_type": "markdown",
   "metadata": {},
   "source": [
    "**1. Write a select query that returns the MovieTitle, TheaterName, and Showtime for each movie showing.**  \n",
    "The query should use `JOIN` syntax as described in your textbook. Also, use aliases ( `… AS …` ) to make sure that column names match exactly what is asked for. "
   ]
  },
  {
   "cell_type": "code",
   "execution_count": 24,
   "metadata": {
    "collapsed": true
   },
   "outputs": [
    {
     "name": "stdout",
     "output_type": "stream",
     "text": [
      " * sqlite:///Movies.db\n",
      "Done.\n"
     ]
    },
    {
     "data": {
      "text/html": [
       "<table>\n",
       "    <tr>\n",
       "        <th>MovieTitle</th>\n",
       "        <th>ShowTime</th>\n",
       "        <th>TheaterName</th>\n",
       "    </tr>\n",
       "    <tr>\n",
       "        <td>Associate, The</td>\n",
       "        <td>5:00 PM</td>\n",
       "        <td>General Cinema Rancho 6</td>\n",
       "    </tr>\n",
       "    <tr>\n",
       "        <td>Associate, The</td>\n",
       "        <td>7:30 PM</td>\n",
       "        <td>General Cinema Rancho 6</td>\n",
       "    </tr>\n",
       "    <tr>\n",
       "        <td>Associate, The</td>\n",
       "        <td>4:40 PM</td>\n",
       "        <td>Cinema Star The Ultraplex 14</td>\n",
       "    </tr>\n",
       "    <tr>\n",
       "        <td>Associate, The</td>\n",
       "        <td>7:30 PM</td>\n",
       "        <td>Cinema Star The Ultraplex 14</td>\n",
       "    </tr>\n",
       "    <tr>\n",
       "        <td>Associate, The</td>\n",
       "        <td>4:20 PM</td>\n",
       "        <td>Akarakian Theatres Moreno 4 Cinemas</td>\n",
       "    </tr>\n",
       "    <tr>\n",
       "        <td>Associate, The</td>\n",
       "        <td>7:20 PM</td>\n",
       "        <td>Akarakian Theatres Moreno 4 Cinemas</td>\n",
       "    </tr>\n",
       "    <tr>\n",
       "        <td>Associate, The</td>\n",
       "        <td>9:40 PM</td>\n",
       "        <td>Akarakian Theatres Moreno 4 Cinemas</td>\n",
       "    </tr>\n",
       "    <tr>\n",
       "        <td>Ghost &amp; The Darkness, The</td>\n",
       "        <td>10:05 PM</td>\n",
       "        <td>Pacific Inland Center</td>\n",
       "    </tr>\n",
       "    <tr>\n",
       "        <td>Ghost &amp; The Darkness, The</td>\n",
       "        <td>5:15 PM</td>\n",
       "        <td>Pacific Inland Center</td>\n",
       "    </tr>\n",
       "    <tr>\n",
       "        <td>Ghost &amp; The Darkness, The</td>\n",
       "        <td>7:40 PM</td>\n",
       "        <td>Pacific Inland Center</td>\n",
       "    </tr>\n",
       "</table>"
      ],
      "text/plain": [
       "[('Associate, The', '5:00 PM', 'General Cinema Rancho 6'),\n",
       " ('Associate, The', '7:30 PM', 'General Cinema Rancho 6'),\n",
       " ('Associate, The', '4:40 PM', 'Cinema Star The Ultraplex 14'),\n",
       " ('Associate, The', '7:30 PM', 'Cinema Star The Ultraplex 14'),\n",
       " ('Associate, The', '4:20 PM', 'Akarakian Theatres Moreno 4 Cinemas'),\n",
       " ('Associate, The', '7:20 PM', 'Akarakian Theatres Moreno 4 Cinemas'),\n",
       " ('Associate, The', '9:40 PM', 'Akarakian Theatres Moreno 4 Cinemas'),\n",
       " ('Ghost & The Darkness, The', '10:05 PM', 'Pacific Inland Center'),\n",
       " ('Ghost & The Darkness, The', '5:15 PM', 'Pacific Inland Center'),\n",
       " ('Ghost & The Darkness, The', '7:40 PM', 'Pacific Inland Center')]"
      ]
     },
     "execution_count": 24,
     "metadata": {},
     "output_type": "execute_result"
    }
   ],
   "source": [
    "%%sql\n",
    "\n",
    "/* *** Querying MovieTitle, TheaterName, ShowTime; Only limiting to 10 rows to save space *** */\n",
    "\n",
    "SELECT MTitle AS MovieTitle, Show_Time AS ShowTime, TName AS TheaterName\n",
    "FROM MOVIE\n",
    "JOIN SHOW USING (MID)\n",
    "JOIN THEATER USING (TID)\n",
    "LIMIT 10;"
   ]
  },
  {
   "cell_type": "markdown",
   "metadata": {},
   "source": [
    "**2. Write a select query to display the MovieTitle, TheaterName, and Showtime for each show after 7pm.** You can start with a copy of the previous query and then add a `WHERE` clause. "
   ]
  },
  {
   "cell_type": "code",
   "execution_count": 48,
   "metadata": {
    "collapsed": true
   },
   "outputs": [
    {
     "name": "stdout",
     "output_type": "stream",
     "text": [
      " * sqlite:///Movies.db\n",
      "Done.\n"
     ]
    },
    {
     "data": {
      "text/html": [
       "<table>\n",
       "    <tr>\n",
       "        <th>MovieTitle</th>\n",
       "        <th>ShowTime</th>\n",
       "        <th>TheaterName</th>\n",
       "    </tr>\n",
       "    <tr>\n",
       "        <td>Associate, The</td>\n",
       "        <td>7:30 PM</td>\n",
       "        <td>General Cinema Rancho 6</td>\n",
       "    </tr>\n",
       "    <tr>\n",
       "        <td>Associate, The</td>\n",
       "        <td>7:30 PM</td>\n",
       "        <td>Cinema Star The Ultraplex 14</td>\n",
       "    </tr>\n",
       "    <tr>\n",
       "        <td>Associate, The</td>\n",
       "        <td>7:20 PM</td>\n",
       "        <td>Akarakian Theatres Moreno 4 Cinemas</td>\n",
       "    </tr>\n",
       "    <tr>\n",
       "        <td>Associate, The</td>\n",
       "        <td>9:40 PM</td>\n",
       "        <td>Akarakian Theatres Moreno 4 Cinemas</td>\n",
       "    </tr>\n",
       "    <tr>\n",
       "        <td>Ghost &amp; The Darkness, The</td>\n",
       "        <td>7:40 PM</td>\n",
       "        <td>Pacific Inland Center</td>\n",
       "    </tr>\n",
       "    <tr>\n",
       "        <td>Ghost &amp; The Darkness, The</td>\n",
       "        <td>7:15 PM</td>\n",
       "        <td>United Artists Riverside Park Sierra</td>\n",
       "    </tr>\n",
       "    <tr>\n",
       "        <td>Ghost &amp; The Darkness, The</td>\n",
       "        <td>9:15 PM</td>\n",
       "        <td>SOCAL Canyon Crest Cinema</td>\n",
       "    </tr>\n",
       "    <tr>\n",
       "        <td>Ghost &amp; The Darkness, The</td>\n",
       "        <td>7:20 PM</td>\n",
       "        <td>SOCAL Canyon Springs Cinema</td>\n",
       "    </tr>\n",
       "    <tr>\n",
       "        <td>Ghost &amp; The Darkness, The</td>\n",
       "        <td>9:50 PM</td>\n",
       "        <td>SOCAL Canyon Springs Cinema</td>\n",
       "    </tr>\n",
       "    <tr>\n",
       "        <td>Ghost &amp; The Darkness, The</td>\n",
       "        <td>7:40 PM</td>\n",
       "        <td>Cinema Star The Ultraplex 14</td>\n",
       "    </tr>\n",
       "</table>"
      ],
      "text/plain": [
       "[('Associate, The', '7:30 PM', 'General Cinema Rancho 6'),\n",
       " ('Associate, The', '7:30 PM', 'Cinema Star The Ultraplex 14'),\n",
       " ('Associate, The', '7:20 PM', 'Akarakian Theatres Moreno 4 Cinemas'),\n",
       " ('Associate, The', '9:40 PM', 'Akarakian Theatres Moreno 4 Cinemas'),\n",
       " ('Ghost & The Darkness, The', '7:40 PM', 'Pacific Inland Center'),\n",
       " ('Ghost & The Darkness, The', '7:15 PM', 'United Artists Riverside Park Sierra'),\n",
       " ('Ghost & The Darkness, The', '9:15 PM', 'SOCAL Canyon Crest Cinema'),\n",
       " ('Ghost & The Darkness, The', '7:20 PM', 'SOCAL Canyon Springs Cinema'),\n",
       " ('Ghost & The Darkness, The', '9:50 PM', 'SOCAL Canyon Springs Cinema'),\n",
       " ('Ghost & The Darkness, The', '7:40 PM', 'Cinema Star The Ultraplex 14')]"
      ]
     },
     "execution_count": 48,
     "metadata": {},
     "output_type": "execute_result"
    }
   ],
   "source": [
    "%%sql\n",
    "\n",
    "/* *** Querying for Movie Title, Theater Name, and Show Time ONLY AFTER 7:00pm while only showing the first 10 rows *** */\n",
    "\n",
    "SELECT MTitle AS MovieTitle, Show_Time AS ShowTime, TName AS TheaterName\n",
    "FROM MOVIE\n",
    "JOIN SHOW USING (MID)\n",
    "JOIN THEATER USING (TID)\n",
    "WHERE Show_Time > \"7:00 PM\"\n",
    "LIMIT 10;"
   ]
  },
  {
   "cell_type": "markdown",
   "metadata": {},
   "source": [
    "**3. Write a select query to display the cast (actors only) of each movie.** The query should return the Movie Title, Actor Name, MID, and AID. "
   ]
  },
  {
   "cell_type": "code",
   "execution_count": 72,
   "metadata": {
    "collapsed": true
   },
   "outputs": [
    {
     "name": "stdout",
     "output_type": "stream",
     "text": [
      " * sqlite:///Movies.db\n",
      "Done.\n"
     ]
    },
    {
     "data": {
      "text/html": [
       "<table>\n",
       "    <tr>\n",
       "        <th>AID</th>\n",
       "        <th>Actor_Name</th>\n",
       "        <th>MID</th>\n",
       "        <th>MovieTitle</th>\n",
       "    </tr>\n",
       "    <tr>\n",
       "        <td>1</td>\n",
       "        <td>Austin Pendleton</td>\n",
       "        <td>1</td>\n",
       "        <td>Associate, The</td>\n",
       "    </tr>\n",
       "    <tr>\n",
       "        <td>2</td>\n",
       "        <td>Bebe Neuwirth</td>\n",
       "        <td>1</td>\n",
       "        <td>Associate, The</td>\n",
       "    </tr>\n",
       "    <tr>\n",
       "        <td>3</td>\n",
       "        <td>Dianne Wiest</td>\n",
       "        <td>1</td>\n",
       "        <td>Associate, The</td>\n",
       "    </tr>\n",
       "    <tr>\n",
       "        <td>4</td>\n",
       "        <td>Eli Wallach</td>\n",
       "        <td>1</td>\n",
       "        <td>Associate, The</td>\n",
       "    </tr>\n",
       "    <tr>\n",
       "        <td>5</td>\n",
       "        <td>Kenny Kerr</td>\n",
       "        <td>1</td>\n",
       "        <td>Associate, The</td>\n",
       "    </tr>\n",
       "    <tr>\n",
       "        <td>6</td>\n",
       "        <td>Lainie Kazan</td>\n",
       "        <td>1</td>\n",
       "        <td>Associate, The</td>\n",
       "    </tr>\n",
       "    <tr>\n",
       "        <td>7</td>\n",
       "        <td>Tim Daly</td>\n",
       "        <td>1</td>\n",
       "        <td>Associate, The</td>\n",
       "    </tr>\n",
       "    <tr>\n",
       "        <td>8</td>\n",
       "        <td>Whoopi Goldberg</td>\n",
       "        <td>1</td>\n",
       "        <td>Associate, The</td>\n",
       "    </tr>\n",
       "    <tr>\n",
       "        <td>9</td>\n",
       "        <td>Donald Petrie</td>\n",
       "        <td>1</td>\n",
       "        <td>Associate, The</td>\n",
       "    </tr>\n",
       "    <tr>\n",
       "        <td>10</td>\n",
       "        <td>Bernard Hill</td>\n",
       "        <td>2</td>\n",
       "        <td>Ghost &amp; The Darkness, The</td>\n",
       "    </tr>\n",
       "</table>"
      ],
      "text/plain": [
       "[(1, 'Austin Pendleton', 1, 'Associate, The'),\n",
       " (2, 'Bebe Neuwirth', 1, 'Associate, The'),\n",
       " (3, 'Dianne Wiest', 1, 'Associate, The'),\n",
       " (4, 'Eli Wallach', 1, 'Associate, The'),\n",
       " (5, 'Kenny Kerr', 1, 'Associate, The'),\n",
       " (6, 'Lainie Kazan', 1, 'Associate, The'),\n",
       " (7, 'Tim Daly', 1, 'Associate, The'),\n",
       " (8, 'Whoopi Goldberg', 1, 'Associate, The'),\n",
       " (9, 'Donald Petrie', 1, 'Associate, The'),\n",
       " (10, 'Bernard Hill', 2, 'Ghost & The Darkness, The')]"
      ]
     },
     "execution_count": 72,
     "metadata": {},
     "output_type": "execute_result"
    }
   ],
   "source": [
    "%%sql\n",
    "\n",
    "/* *** Querying for Movie Title, Actor Name, Movie ID and Actor ID and only showing the first 10 rows *** */\n",
    "\n",
    "SELECT AID, Name AS Actor_Name, MID, MTitle AS MovieTitle\n",
    "FROM MOVIE\n",
    "JOIN CREDIT USING (MID)\n",
    "JOIN ARTISTS USING (AID)\n",
    "LIMIT 10;"
   ]
  },
  {
   "cell_type": "markdown",
   "metadata": {},
   "source": [
    "**4. Write a select query to display the number of distinct movies that each actor appears in.** The query should return the ActorName, MovieCount, and AID. You will need to use use a GROUP BY clause and the COUNT() function. "
   ]
  },
  {
   "cell_type": "code",
   "execution_count": 79,
   "metadata": {
    "collapsed": true
   },
   "outputs": [
    {
     "name": "stdout",
     "output_type": "stream",
     "text": [
      " * sqlite:///Movies.db\n",
      "Done.\n"
     ]
    },
    {
     "data": {
      "text/html": [
       "<table>\n",
       "    <tr>\n",
       "        <th>Actor_Name</th>\n",
       "        <th>MovieCount</th>\n",
       "        <th>AID</th>\n",
       "    </tr>\n",
       "    <tr>\n",
       "        <td>Aidan Quinn</td>\n",
       "        <td>1</td>\n",
       "        <td>93</td>\n",
       "    </tr>\n",
       "    <tr>\n",
       "        <td>Alan Rickman</td>\n",
       "        <td>1</td>\n",
       "        <td>94</td>\n",
       "    </tr>\n",
       "    <tr>\n",
       "        <td>Anna Paquin</td>\n",
       "        <td>1</td>\n",
       "        <td>111</td>\n",
       "    </tr>\n",
       "    <tr>\n",
       "        <td>Anthony Hopkins</td>\n",
       "        <td>1</td>\n",
       "        <td>132</td>\n",
       "    </tr>\n",
       "    <tr>\n",
       "        <td>Arlene Sanford</td>\n",
       "        <td>1</td>\n",
       "        <td>147</td>\n",
       "    </tr>\n",
       "    <tr>\n",
       "        <td>Austin Pendleton</td>\n",
       "        <td>1</td>\n",
       "        <td>1</td>\n",
       "    </tr>\n",
       "    <tr>\n",
       "        <td>Barbra Streisand</td>\n",
       "        <td>2</td>\n",
       "        <td>60</td>\n",
       "    </tr>\n",
       "    <tr>\n",
       "        <td>Barry Levinson</td>\n",
       "        <td>1</td>\n",
       "        <td>82</td>\n",
       "    </tr>\n",
       "    <tr>\n",
       "        <td>Baz Luhrmann</td>\n",
       "        <td>1</td>\n",
       "        <td>105</td>\n",
       "    </tr>\n",
       "    <tr>\n",
       "        <td>Bebe Neuwirth</td>\n",
       "        <td>1</td>\n",
       "        <td>2</td>\n",
       "    </tr>\n",
       "</table>"
      ],
      "text/plain": [
       "[('Aidan Quinn', 1, 93),\n",
       " ('Alan Rickman', 1, 94),\n",
       " ('Anna Paquin', 1, 111),\n",
       " ('Anthony Hopkins', 1, 132),\n",
       " ('Arlene Sanford', 1, 147),\n",
       " ('Austin Pendleton', 1, 1),\n",
       " ('Barbra Streisand', 2, 60),\n",
       " ('Barry Levinson', 1, 82),\n",
       " ('Baz Luhrmann', 1, 105),\n",
       " ('Bebe Neuwirth', 1, 2)]"
      ]
     },
     "execution_count": 79,
     "metadata": {},
     "output_type": "execute_result"
    }
   ],
   "source": [
    "%%sql\n",
    "\n",
    "/* *** Querying for Actor Name, Count of Distinct Movies per Actor, and Actor ID and Limiting to 10 rows *** */\n",
    "\n",
    "SELECT DISTINCT Name AS Actor_Name, COUNT(MTitle) AS MovieCount, AID\n",
    "FROM ARTISTS\n",
    "JOIN CREDIT USING (AID)\n",
    "JOIN MOVIE USING (MID)\n",
    "GROUP BY Name\n",
    "ORDER BY Name ASC\n",
    "LIMIT 10;"
   ]
  },
  {
   "cell_type": "markdown",
   "metadata": {},
   "source": [
    "**5. Write a select query to display only the actors that appear in multiple movies.** The query should return the Actor Name, Movie Count, and AID. You can use the previous select query as a starting point. You will need to add a HAVING clause to do the restriction. "
   ]
  },
  {
   "cell_type": "code",
   "execution_count": 89,
   "metadata": {
    "collapsed": true
   },
   "outputs": [
    {
     "name": "stdout",
     "output_type": "stream",
     "text": [
      " * sqlite:///Movies.db\n",
      "Done.\n"
     ]
    },
    {
     "data": {
      "text/html": [
       "<table>\n",
       "    <tr>\n",
       "        <th>Actor_Name</th>\n",
       "        <th>MovieCount</th>\n",
       "        <th>AID</th>\n",
       "    </tr>\n",
       "    <tr>\n",
       "        <td>Barbra Streisand</td>\n",
       "        <td>2</td>\n",
       "        <td>60</td>\n",
       "    </tr>\n",
       "    <tr>\n",
       "        <td>Bill Murray</td>\n",
       "        <td>2</td>\n",
       "        <td>53</td>\n",
       "    </tr>\n",
       "    <tr>\n",
       "        <td>Campbell Scott</td>\n",
       "        <td>2</td>\n",
       "        <td>106</td>\n",
       "    </tr>\n",
       "    <tr>\n",
       "        <td>Diane Venora</td>\n",
       "        <td>2</td>\n",
       "        <td>100</td>\n",
       "    </tr>\n",
       "    <tr>\n",
       "        <td>Jada Pinkett</td>\n",
       "        <td>2</td>\n",
       "        <td>117</td>\n",
       "    </tr>\n",
       "    <tr>\n",
       "        <td>Minnie Driver</td>\n",
       "        <td>2</td>\n",
       "        <td>77</td>\n",
       "    </tr>\n",
       "    <tr>\n",
       "        <td>Rob Lieberman</td>\n",
       "        <td>2</td>\n",
       "        <td>35</td>\n",
       "    </tr>\n",
       "    <tr>\n",
       "        <td>Stanley Tucci</td>\n",
       "        <td>2</td>\n",
       "        <td>109</td>\n",
       "    </tr>\n",
       "    <tr>\n",
       "        <td>Vivica Fox</td>\n",
       "        <td>2</td>\n",
       "        <td>28</td>\n",
       "    </tr>\n",
       "</table>"
      ],
      "text/plain": [
       "[('Barbra Streisand', 2, 60),\n",
       " ('Bill Murray', 2, 53),\n",
       " ('Campbell Scott', 2, 106),\n",
       " ('Diane Venora', 2, 100),\n",
       " ('Jada Pinkett', 2, 117),\n",
       " ('Minnie Driver', 2, 77),\n",
       " ('Rob Lieberman', 2, 35),\n",
       " ('Stanley Tucci', 2, 109),\n",
       " ('Vivica Fox', 2, 28)]"
      ]
     },
     "execution_count": 89,
     "metadata": {},
     "output_type": "execute_result"
    }
   ],
   "source": [
    "%%sql\n",
    "\n",
    "SELECT DISTINCT Name AS Actor_Name, COUNT(MTitle) AS MovieCount, AID\n",
    "FROM ARTISTS\n",
    "JOIN CREDIT USING (AID)\n",
    "JOIN MOVIE USING (MID)\n",
    "GROUP BY Name\n",
    "HAVING MovieCount > 1;"
   ]
  },
  {
   "cell_type": "markdown",
   "metadata": {},
   "source": [
    "**6. Write a select query to display directors that also act in their movies.** The query should return the ArtistName, NumDirectorCredits, NumActorCredits, NumDirectorActorCredits. Each count should be calculated separately using a subquery. Note: NumDirectorActorCredits should be greater than 0."
   ]
  },
  {
   "cell_type": "code",
   "execution_count": 191,
   "metadata": {
    "collapsed": true
   },
   "outputs": [
    {
     "name": "stdout",
     "output_type": "stream",
     "text": [
      " * sqlite:///Movies.db\n",
      "Done.\n"
     ]
    },
    {
     "data": {
      "text/html": [
       "<table>\n",
       "    <tr>\n",
       "        <th>ArtistName</th>\n",
       "        <th>NumActorCredits</th>\n",
       "        <th>NumDirectorCredits</th>\n",
       "    </tr>\n",
       "    <tr>\n",
       "        <td>Aidan Quinn</td>\n",
       "        <td>1</td>\n",
       "        <td>0</td>\n",
       "    </tr>\n",
       "    <tr>\n",
       "        <td>Alan Rickman</td>\n",
       "        <td>1</td>\n",
       "        <td>0</td>\n",
       "    </tr>\n",
       "    <tr>\n",
       "        <td>Anna Paquin</td>\n",
       "        <td>1</td>\n",
       "        <td>0</td>\n",
       "    </tr>\n",
       "    <tr>\n",
       "        <td>Anthony Hopkins</td>\n",
       "        <td>1</td>\n",
       "        <td>0</td>\n",
       "    </tr>\n",
       "    <tr>\n",
       "        <td>Arlene Sanford</td>\n",
       "        <td>0</td>\n",
       "        <td>1</td>\n",
       "    </tr>\n",
       "    <tr>\n",
       "        <td>Austin Pendleton</td>\n",
       "        <td>1</td>\n",
       "        <td>0</td>\n",
       "    </tr>\n",
       "    <tr>\n",
       "        <td>Barbra Streisand</td>\n",
       "        <td>1</td>\n",
       "        <td>1</td>\n",
       "    </tr>\n",
       "    <tr>\n",
       "        <td>Barry Levinson</td>\n",
       "        <td>0</td>\n",
       "        <td>1</td>\n",
       "    </tr>\n",
       "    <tr>\n",
       "        <td>Baz Luhrmann</td>\n",
       "        <td>0</td>\n",
       "        <td>1</td>\n",
       "    </tr>\n",
       "    <tr>\n",
       "        <td>Bebe Neuwirth</td>\n",
       "        <td>1</td>\n",
       "        <td>0</td>\n",
       "    </tr>\n",
       "</table>"
      ],
      "text/plain": [
       "[('Aidan Quinn', 1, 0),\n",
       " ('Alan Rickman', 1, 0),\n",
       " ('Anna Paquin', 1, 0),\n",
       " ('Anthony Hopkins', 1, 0),\n",
       " ('Arlene Sanford', 0, 1),\n",
       " ('Austin Pendleton', 1, 0),\n",
       " ('Barbra Streisand', 1, 1),\n",
       " ('Barry Levinson', 0, 1),\n",
       " ('Baz Luhrmann', 0, 1),\n",
       " ('Bebe Neuwirth', 1, 0)]"
      ]
     },
     "execution_count": 191,
     "metadata": {},
     "output_type": "execute_result"
    }
   ],
   "source": [
    "%%sql\n",
    "\n",
    "SELECT DISTINCT Name AS ArtistName, COUNT((SELECT CCode FROM ARTISTS WHERE CCode='A')) as NumActorCredits, COUNT((SELECT CCode FROM ARTISTS WHERE CCode='D')) AS NumDirectorCredits\n",
    "FROM ARTISTS\n",
    "JOIN CREDIT USING (AID)\n",
    "JOIN MOVIE USING (MID)\n",
    "GROUP BY Name\n",
    "LIMIT 10;"
   ]
  }
 ],
 "metadata": {
  "kernelspec": {
   "display_name": "Python 3",
   "language": "python",
   "name": "python3"
  },
  "language_info": {
   "codemirror_mode": {
    "name": "ipython",
    "version": 3
   },
   "file_extension": ".py",
   "mimetype": "text/x-python",
   "name": "python",
   "nbconvert_exporter": "python",
   "pygments_lexer": "ipython3",
   "version": "3.6.5"
  }
 },
 "nbformat": 4,
 "nbformat_minor": 2
}
